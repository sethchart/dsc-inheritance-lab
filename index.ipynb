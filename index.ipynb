{
 "cells": [
  {
   "cell_type": "markdown",
   "metadata": {},
   "source": [
    "# Inheritance - Lab\n",
    "\n",
    "## Introduction\n",
    "\n",
    "In this lab, you'll use what you've learned about inheritance to model a zoo using superclasses, subclasses, and maybe even an abstract superclass!\n",
    "\n",
    "## Objectives\n",
    "\n",
    "In this lab you will: \n",
    "\n",
    "- Create a domain model using OOP \n",
    "- Use inheritance to write nonredundant code \n",
    "\n",
    "## Modeling a Zoo\n",
    "\n",
    "Consider the following scenario:  You've been hired by a zookeeper to build a program that keeps track of all the animals in the zoo.  This is a great opportunity to make use of inheritance and object-oriented programming!\n",
    "\n",
    "## Creating an Abstract Superclass\n",
    "\n",
    "Start by creating an abstract superclass, `Animal()`.  When your program is complete, all subclasses of `Animal()` will have the following attributes:\n",
    "\n",
    "* `name`, which is a string set at instantation time\n",
    "* `size`, which can be `'small'`, `'medium'`, `'large'`, or `'enormous'` \n",
    "* `weight`, which is an integer set at instantiation time \n",
    "* `species`, a string that tells us the species of the animal\n",
    "* `food_type`, which can be `'herbivore'`, `'carnivore'`, or `'omnivore'`\n",
    "* `nocturnal`, a boolean value that is `True` if the animal sleeps during the day, otherwise `False`\n",
    "\n",
    "They'll also have the following behaviors:\n",
    "\n",
    "* `sleep`, which prints a string saying if the animal sleeps during day or night\n",
    "* `eat`, which takes in the string `'plants'` or `'meat'`, and returns `'{animal name} the {animal species} thinks {food} is yummy!'` or `'I don't eat this!'` based on the animal's `food_type` attribute \n",
    "\n",
    "In the cell below, create an abstract superclass that meets these specifications.\n",
    "\n",
    "**_NOTE:_** For some attributes in an abstract superclass such as `size`, the initial value doesn't matter -- just make sure that you remember to override it in each of the subclasses!"
   ]
  },
  {
   "cell_type": "code",
   "execution_count": 1,
   "metadata": {},
   "outputs": [],
   "source": [
    "class Animal(object):\n",
    "    \n",
    "    def __init__(self, name, weight, species, foodType, nocturnal, size=None):\n",
    "        self.name = name\n",
    "        self.size = weight\n",
    "        self.weight = weight\n",
    "        self.species = species\n",
    "        self.foodType = foodType\n",
    "        self.nocturnal = nocturnal\n",
    "            "
   ]
  },
  {
   "cell_type": "markdown",
   "metadata": {},
   "source": [
    "Great! Now that you have our abstract superclass, you can begin building out the specific animal classes.\n",
    "\n",
    "In the cell below, complete the `Elephant()` class.  This class should:\n",
    "\n",
    "* subclass `Animal` \n",
    "* have a species of `'elephant'` \n",
    "* have a size of `'enormous'` \n",
    "* have a food type of `'herbivore'` \n",
    "* set nocturnal to `False` \n",
    "\n",
    "**_Hint:_** Remember to make use of `.super()` during initialization, and be sure to pass in the values it expects at instantiation time!"
   ]
  },
  {
   "cell_type": "code",
   "execution_count": 2,
   "metadata": {},
   "outputs": [],
   "source": [
    "class Elephant(Animal):\n",
    "    \n",
    "    def __init__(self, name, weight):\n",
    "        super().__init__(self, \n",
    "                         name, \n",
    "                         weight, \n",
    "                         species='elephant', \n",
    "                         foodType='herbivore', \n",
    "                         nocturnal=False, \n",
    "                         size='enormous'\n",
    "                        )"
   ]
  },
  {
   "cell_type": "markdown",
   "metadata": {},
   "source": [
    "Great! Now, in the cell below, create a `Tiger()` class.  This class should: \n",
    "\n",
    "* subclass `Animal` \n",
    "* have a species of `'tiger'` \n",
    "* have a size of `'large'` \n",
    "* have a food type of `'carnivore'` \n",
    "* set nocturnal to `True` "
   ]
  },
  {
   "cell_type": "code",
   "execution_count": 3,
   "metadata": {},
   "outputs": [],
   "source": [
    "class Tiger(Animal):\n",
    "    \n",
    "    def __init__(self, name, weight):\n",
    "        super().__init__(self, \n",
    "                         name, \n",
    "                         weight, \n",
    "                         species='tiger', \n",
    "                         foodType='carnivore', \n",
    "                         nocturnal=True, \n",
    "                         size='large'\n",
    "                        )"
   ]
  },
  {
   "cell_type": "markdown",
   "metadata": {},
   "source": [
    "Great! Two more classes to go. In the cell below, create a `Raccoon()` class. This class should:\n",
    "\n",
    "* subclass `Animal` \n",
    "* have a species of `raccoon` \n",
    "* have a size of `'small'` \n",
    "* have a food type of `'omnivore'` \n",
    "* set nocturnal to `True` "
   ]
  },
  {
   "cell_type": "code",
   "execution_count": 4,
   "metadata": {},
   "outputs": [],
   "source": [
    "class Raccoon(Animal):\n",
    "    \n",
    "    def __init__(self, name, weight):\n",
    "        super().__init__(self, \n",
    "                         name, \n",
    "                         weight, \n",
    "                         species='raccoon', \n",
    "                         foodType='omnivore', \n",
    "                         nocturnal=True, \n",
    "                         size='small'\n",
    "                        )"
   ]
  },
  {
   "cell_type": "markdown",
   "metadata": {},
   "source": [
    "Finally, create a `Gorilla()` class. This class should:\n",
    "\n",
    "* subclass `Animal` \n",
    "* have a species of `gorilla` \n",
    "* have a size of `'large'` \n",
    "* have a food type of `'herbivore'` \n",
    "* set nocturnal to `False` "
   ]
  },
  {
   "cell_type": "code",
   "execution_count": 5,
   "metadata": {},
   "outputs": [],
   "source": [
    "class Gorilla(Animal):\n",
    "    \n",
    "    def __init__(self, name, weight):\n",
    "        super().__init__(self, \n",
    "                         name, \n",
    "                         weight, \n",
    "                         species='gorilla', \n",
    "                         foodType='herbivore', \n",
    "                         nocturnal=False, \n",
    "                         size='large'\n",
    "                        )"
   ]
  },
  {
   "cell_type": "markdown",
   "metadata": {},
   "source": [
    "## Using Our Objects\n",
    "\n",
    "Now it's time to populate the zoo! To ease the creation of animal instances, create a function `add_animal_to_zoo()`.\n",
    "\n",
    "This function should take in the following parameters:\n",
    "\n",
    "* `zoo`, an array representing the current state of the zoo \n",
    "* `animal_type`, a string.  Can be `'Gorilla'`, `'Raccoon'`, `'Tiger'`, or `'Elephant'` \n",
    "* `name`, the name of the animal being created \n",
    "* `weight`, the weight of the animal being created \n",
    "\n",
    "The function should then:\n",
    "\n",
    "* use `animal_type` to determine which object to create\n",
    "* Create an instance of that animal, passing in the `name` and `weight`\n",
    "* Append the newly created animal to `zoo`\n",
    "* Return `zoo`"
   ]
  },
  {
   "cell_type": "code",
   "execution_count": 9,
   "metadata": {},
   "outputs": [
    {
     "ename": "TypeError",
     "evalue": "__init__() got multiple values for argument 'species'",
     "output_type": "error",
     "traceback": [
      "\u001b[0;31m---------------------------------------------------------------------------\u001b[0m",
      "\u001b[0;31mTypeError\u001b[0m                                 Traceback (most recent call last)",
      "\u001b[0;32m<ipython-input-9-75f28a787e2c>\u001b[0m in \u001b[0;36m<module>\u001b[0;34m\u001b[0m\n\u001b[0;32m----> 1\u001b[0;31m \u001b[0manimal\u001b[0m \u001b[0;34m=\u001b[0m \u001b[0mRaccoon\u001b[0m\u001b[0;34m(\u001b[0m\u001b[0;34m'bob'\u001b[0m\u001b[0;34m,\u001b[0m \u001b[0;36m34\u001b[0m\u001b[0;34m)\u001b[0m\u001b[0;34m\u001b[0m\u001b[0;34m\u001b[0m\u001b[0m\n\u001b[0m",
      "\u001b[0;32m<ipython-input-4-29f0ee81112d>\u001b[0m in \u001b[0;36m__init__\u001b[0;34m(self, name, weight)\u001b[0m\n\u001b[1;32m      8\u001b[0m                          \u001b[0mfoodType\u001b[0m\u001b[0;34m=\u001b[0m\u001b[0;34m'omnivore'\u001b[0m\u001b[0;34m,\u001b[0m\u001b[0;34m\u001b[0m\u001b[0;34m\u001b[0m\u001b[0m\n\u001b[1;32m      9\u001b[0m                          \u001b[0mnocturnal\u001b[0m\u001b[0;34m=\u001b[0m\u001b[0;32mTrue\u001b[0m\u001b[0;34m,\u001b[0m\u001b[0;34m\u001b[0m\u001b[0;34m\u001b[0m\u001b[0m\n\u001b[0;32m---> 10\u001b[0;31m                          \u001b[0msize\u001b[0m\u001b[0;34m=\u001b[0m\u001b[0;34m'small'\u001b[0m\u001b[0;34m\u001b[0m\u001b[0;34m\u001b[0m\u001b[0m\n\u001b[0m\u001b[1;32m     11\u001b[0m                         )\n",
      "\u001b[0;31mTypeError\u001b[0m: __init__() got multiple values for argument 'species'"
     ]
    }
   ],
   "source": [
    "animal = Raccoon('bob', 34)\n"
   ]
  },
  {
   "cell_type": "code",
   "execution_count": 6,
   "metadata": {},
   "outputs": [],
   "source": [
    "def add_animal_to_zoo(zoo, animal_type, name, weight):\n",
    "    if animal_type == 'Gorilla':\n",
    "        animal = Gorilla(name, weight)\n",
    "    elif animal_type == 'Raccoon':\n",
    "        animal = Raccoon(name, weight)\n",
    "    elif animal_type == 'Tiger':\n",
    "        animal = Tiger(name , weight)\n",
    "    elif animal_type == 'Elephant':\n",
    "        animal = Elephant(name, weight)\n",
    "    else:\n",
    "        print(\"animal_type must be one of 'Gorrilla', 'Raccoon', 'Tiger', or 'Elephant'.\")\n",
    "    zoo.append(animal)\n",
    "    return(zoo)"
   ]
  },
  {
   "cell_type": "markdown",
   "metadata": {},
   "source": [
    "Great! Now, add some animals to your zoo. \n",
    "\n",
    "Create the following animals and add them to your zoo.  The names and weights are up to you.\n",
    "\n",
    "* 2 Elephants\n",
    "* 2 Raccons\n",
    "* 1 Gorilla\n",
    "* 3 Tigers"
   ]
  },
  {
   "cell_type": "code",
   "execution_count": 7,
   "metadata": {},
   "outputs": [
    {
     "ename": "TypeError",
     "evalue": "__init__() got multiple values for argument 'species'",
     "output_type": "error",
     "traceback": [
      "\u001b[0;31m---------------------------------------------------------------------------\u001b[0m",
      "\u001b[0;31mTypeError\u001b[0m                                 Traceback (most recent call last)",
      "\u001b[0;32m<ipython-input-7-0db734587ecb>\u001b[0m in \u001b[0;36m<module>\u001b[0;34m\u001b[0m\n\u001b[1;32m      1\u001b[0m \u001b[0;31m# Create your animals and add them to the 'zoo' in this cell!\u001b[0m\u001b[0;34m\u001b[0m\u001b[0;34m\u001b[0m\u001b[0;34m\u001b[0m\u001b[0m\n\u001b[1;32m      2\u001b[0m \u001b[0mzoo\u001b[0m \u001b[0;34m=\u001b[0m \u001b[0;34m[\u001b[0m\u001b[0;34m]\u001b[0m\u001b[0;34m\u001b[0m\u001b[0;34m\u001b[0m\u001b[0m\n\u001b[0;32m----> 3\u001b[0;31m \u001b[0madd_animal_to_zoo\u001b[0m\u001b[0;34m(\u001b[0m\u001b[0mzoo\u001b[0m\u001b[0;34m=\u001b[0m\u001b[0mzoo\u001b[0m\u001b[0;34m,\u001b[0m \u001b[0manimal_type\u001b[0m\u001b[0;34m=\u001b[0m\u001b[0;34m'Elephant'\u001b[0m\u001b[0;34m,\u001b[0m \u001b[0mname\u001b[0m\u001b[0;34m=\u001b[0m\u001b[0;34m'bob'\u001b[0m\u001b[0;34m,\u001b[0m \u001b[0mweight\u001b[0m\u001b[0;34m=\u001b[0m\u001b[0;36m1500\u001b[0m\u001b[0;34m)\u001b[0m\u001b[0;34m\u001b[0m\u001b[0;34m\u001b[0m\u001b[0m\n\u001b[0m\u001b[1;32m      4\u001b[0m \u001b[0madd_animal_to_zoo\u001b[0m\u001b[0;34m(\u001b[0m\u001b[0mzoo\u001b[0m\u001b[0;34m=\u001b[0m\u001b[0mzoo\u001b[0m\u001b[0;34m,\u001b[0m \u001b[0manimal_type\u001b[0m\u001b[0;34m=\u001b[0m\u001b[0;34m'Elephant'\u001b[0m\u001b[0;34m,\u001b[0m \u001b[0mname\u001b[0m\u001b[0;34m=\u001b[0m\u001b[0;34m'bill'\u001b[0m\u001b[0;34m,\u001b[0m \u001b[0mweight\u001b[0m\u001b[0;34m=\u001b[0m\u001b[0;36m1700\u001b[0m\u001b[0;34m)\u001b[0m\u001b[0;34m\u001b[0m\u001b[0;34m\u001b[0m\u001b[0m\n\u001b[1;32m      5\u001b[0m \u001b[0madd_animal_to_zoo\u001b[0m\u001b[0;34m(\u001b[0m\u001b[0mzoo\u001b[0m\u001b[0;34m=\u001b[0m\u001b[0mzoo\u001b[0m\u001b[0;34m,\u001b[0m \u001b[0manimal_type\u001b[0m\u001b[0;34m=\u001b[0m\u001b[0;34m'Raccoon'\u001b[0m\u001b[0;34m,\u001b[0m \u001b[0mname\u001b[0m\u001b[0;34m=\u001b[0m\u001b[0;34m'betty'\u001b[0m\u001b[0;34m,\u001b[0m \u001b[0mweight\u001b[0m\u001b[0;34m=\u001b[0m\u001b[0;36m15\u001b[0m\u001b[0;34m)\u001b[0m\u001b[0;34m\u001b[0m\u001b[0;34m\u001b[0m\u001b[0m\n",
      "\u001b[0;32m<ipython-input-6-8c301c1c7556>\u001b[0m in \u001b[0;36madd_animal_to_zoo\u001b[0;34m(zoo, animal_type, name, weight)\u001b[0m\n\u001b[1;32m      7\u001b[0m         \u001b[0manimal\u001b[0m \u001b[0;34m=\u001b[0m \u001b[0mTiger\u001b[0m\u001b[0;34m(\u001b[0m\u001b[0mname\u001b[0m \u001b[0;34m,\u001b[0m \u001b[0mweight\u001b[0m\u001b[0;34m)\u001b[0m\u001b[0;34m\u001b[0m\u001b[0;34m\u001b[0m\u001b[0m\n\u001b[1;32m      8\u001b[0m     \u001b[0;32melif\u001b[0m \u001b[0manimal_type\u001b[0m \u001b[0;34m==\u001b[0m \u001b[0;34m'Elephant'\u001b[0m\u001b[0;34m:\u001b[0m\u001b[0;34m\u001b[0m\u001b[0;34m\u001b[0m\u001b[0m\n\u001b[0;32m----> 9\u001b[0;31m         \u001b[0manimal\u001b[0m \u001b[0;34m=\u001b[0m \u001b[0mElephant\u001b[0m\u001b[0;34m(\u001b[0m\u001b[0mname\u001b[0m\u001b[0;34m,\u001b[0m \u001b[0mweight\u001b[0m\u001b[0;34m)\u001b[0m\u001b[0;34m\u001b[0m\u001b[0;34m\u001b[0m\u001b[0m\n\u001b[0m\u001b[1;32m     10\u001b[0m     \u001b[0;32melse\u001b[0m\u001b[0;34m:\u001b[0m\u001b[0;34m\u001b[0m\u001b[0;34m\u001b[0m\u001b[0m\n\u001b[1;32m     11\u001b[0m         \u001b[0mprint\u001b[0m\u001b[0;34m(\u001b[0m\u001b[0;34m\"animal_type must be one of 'Gorrilla', 'Raccoon', 'Tiger', or 'Elephant'.\"\u001b[0m\u001b[0;34m)\u001b[0m\u001b[0;34m\u001b[0m\u001b[0;34m\u001b[0m\u001b[0m\n",
      "\u001b[0;32m<ipython-input-2-26f33b269eb0>\u001b[0m in \u001b[0;36m__init__\u001b[0;34m(self, name, weight)\u001b[0m\n\u001b[1;32m      8\u001b[0m                          \u001b[0mfoodType\u001b[0m\u001b[0;34m=\u001b[0m\u001b[0;34m'herbivore'\u001b[0m\u001b[0;34m,\u001b[0m\u001b[0;34m\u001b[0m\u001b[0;34m\u001b[0m\u001b[0m\n\u001b[1;32m      9\u001b[0m                          \u001b[0mnocturnal\u001b[0m\u001b[0;34m=\u001b[0m\u001b[0;32mFalse\u001b[0m\u001b[0;34m,\u001b[0m\u001b[0;34m\u001b[0m\u001b[0;34m\u001b[0m\u001b[0m\n\u001b[0;32m---> 10\u001b[0;31m                          \u001b[0msize\u001b[0m\u001b[0;34m=\u001b[0m\u001b[0;34m'enormous'\u001b[0m\u001b[0;34m\u001b[0m\u001b[0;34m\u001b[0m\u001b[0m\n\u001b[0m\u001b[1;32m     11\u001b[0m                         )\n",
      "\u001b[0;31mTypeError\u001b[0m: __init__() got multiple values for argument 'species'"
     ]
    }
   ],
   "source": [
    "# Create your animals and add them to the 'zoo' in this cell!\n",
    "zoo = []\n",
    "add_animal_to_zoo(zoo=zoo, animal_type='Elephant', name='bob', weight=1500)\n",
    "add_animal_to_zoo(zoo=zoo, animal_type='Elephant', name='bill', weight=1700)\n",
    "add_animal_to_zoo(zoo=zoo, animal_type='Raccoon', name='betty', weight=15)\n",
    "add_animal_to_zoo(zoo=zoo, animal_type='Raccoon', name='rob', weight=17)\n",
    "add_animal_to_zoo(zoo=zoo, animal_type='Gorilla', name='todd', weight=1500)\n",
    "add_animal_to_zoo(zoo=zoo, animal_type='Tiger', name='sue', weight=150)\n",
    "add_animal_to_zoo(zoo=zoo, animal_type='Tiger', name='tiff', weight=170)\n",
    "add_animal_to_zoo(zoo=zoo, animal_type='Tiger', name='cam', weight=200)"
   ]
  },
  {
   "cell_type": "markdown",
   "metadata": {},
   "source": [
    "Great! Now that you have a populated zoo, you can do what the zookeeper hired you to do -- write a program that feeds the correct animals the right food at the right times!\n",
    "\n",
    "To do this, write a function called `feed_animals()`. This function should take in two arguments:\n",
    "\n",
    "* `zoo`, the zoo array containing all the animals\n",
    "* `time`, which can be `'Day'` or `'Night'`.  This should default to day if nothing is entered for `time` \n",
    "\n",
    "This function should:\n",
    "\n",
    "* Feed only the non-nocturnal animals if `time='Day'`, or only the nocturnal animals if `time='Night'`\n",
    "* Check the food type of each animal before feeding.  If the animal is a carnivore, feed it `'meat'`; otherwise, feed it `'plants'`. Feed the animals by using their `.eat()` method "
   ]
  },
  {
   "cell_type": "code",
   "execution_count": null,
   "metadata": {},
   "outputs": [],
   "source": [
    "def feed_animals(zoo, time='Day'):\n",
    "    pass"
   ]
  },
  {
   "cell_type": "markdown",
   "metadata": {},
   "source": [
    "Now, test out your program.  Call the function for a daytime feeding below."
   ]
  },
  {
   "cell_type": "code",
   "execution_count": null,
   "metadata": {},
   "outputs": [],
   "source": []
  },
  {
   "cell_type": "markdown",
   "metadata": {},
   "source": [
    "If the elephants and gorrillas were fed then things should be good!\n",
    "\n",
    "In the cell below, call `feed_animals()` again, but this time set `time='Night'`"
   ]
  },
  {
   "cell_type": "code",
   "execution_count": null,
   "metadata": {},
   "outputs": [],
   "source": []
  },
  {
   "cell_type": "markdown",
   "metadata": {},
   "source": [
    "That's it! You've used OOP and inheritance to build a working program to help the zookeeper feed his animals with right food at the correct times!\n",
    "\n",
    "## Summary\n",
    "\n",
    "In this lab, you modeled a zoo and learned how to use inheritance to write nonredundant code, used subclasses and superclasses, and create a domain model using OOP."
   ]
  }
 ],
 "metadata": {
  "kernelspec": {
   "display_name": "Python 3",
   "language": "python",
   "name": "python3"
  },
  "language_info": {
   "codemirror_mode": {
    "name": "ipython",
    "version": 3
   },
   "file_extension": ".py",
   "mimetype": "text/x-python",
   "name": "python",
   "nbconvert_exporter": "python",
   "pygments_lexer": "ipython3",
   "version": "3.6.9"
  }
 },
 "nbformat": 4,
 "nbformat_minor": 2
}
